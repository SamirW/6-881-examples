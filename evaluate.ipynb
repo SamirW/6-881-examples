{
 "cells": [
  {
   "cell_type": "code",
   "execution_count": 3,
   "metadata": {},
   "outputs": [
    {
     "ename": "ImportError",
     "evalue": "No module named 'pydrake'",
     "output_type": "error",
     "traceback": [
      "\u001b[0;31m---------------------------------------------------------------------------\u001b[0m",
      "\u001b[0;31mImportError\u001b[0m                               Traceback (most recent call last)",
      "\u001b[0;32m<ipython-input-3-38507c4f3378>\u001b[0m in \u001b[0;36m<module>\u001b[0;34m()\u001b[0m\n\u001b[1;32m      1\u001b[0m \u001b[0mget_ipython\u001b[0m\u001b[0;34m(\u001b[0m\u001b[0;34m)\u001b[0m\u001b[0;34m.\u001b[0m\u001b[0mrun_line_magic\u001b[0m\u001b[0;34m(\u001b[0m\u001b[0;34m'matplotlib'\u001b[0m\u001b[0;34m,\u001b[0m \u001b[0;34m'inline'\u001b[0m\u001b[0;34m)\u001b[0m\u001b[0;34m\u001b[0m\u001b[0m\n\u001b[1;32m      2\u001b[0m \u001b[0;34m\u001b[0m\u001b[0m\n\u001b[0;32m----> 3\u001b[0;31m \u001b[0;32mfrom\u001b[0m \u001b[0mplan_runner\u001b[0m\u001b[0;34m.\u001b[0m\u001b[0menvironment\u001b[0m \u001b[0;32mimport\u001b[0m \u001b[0mManipStationEnvironment\u001b[0m\u001b[0;34m\u001b[0m\u001b[0m\n\u001b[0m\u001b[1;32m      4\u001b[0m \u001b[0;32mimport\u001b[0m \u001b[0mnumpy\u001b[0m \u001b[0;32mas\u001b[0m \u001b[0mnp\u001b[0m\u001b[0;34m\u001b[0m\u001b[0m\n\u001b[1;32m      5\u001b[0m \u001b[0;32mimport\u001b[0m \u001b[0mtorch\u001b[0m\u001b[0;34m\u001b[0m\u001b[0m\n",
      "\u001b[0;32m~/Documents/6881/final_project/plan_runner/environment.py\u001b[0m in \u001b[0;36m<module>\u001b[0;34m()\u001b[0m\n\u001b[1;32m      2\u001b[0m \u001b[0;32mimport\u001b[0m \u001b[0mtime\u001b[0m\u001b[0;34m\u001b[0m\u001b[0m\n\u001b[1;32m      3\u001b[0m \u001b[0;34m\u001b[0m\u001b[0m\n\u001b[0;32m----> 4\u001b[0;31m \u001b[0;32mfrom\u001b[0m \u001b[0mpydrake\u001b[0m\u001b[0;34m.\u001b[0m\u001b[0mcommon\u001b[0m \u001b[0;32mimport\u001b[0m \u001b[0mFindResourceOrThrow\u001b[0m\u001b[0;34m\u001b[0m\u001b[0m\n\u001b[0m\u001b[1;32m      5\u001b[0m \u001b[0;32mfrom\u001b[0m \u001b[0mpydrake\u001b[0m\u001b[0;34m.\u001b[0m\u001b[0mgeometry\u001b[0m \u001b[0;32mimport\u001b[0m \u001b[0mSceneGraph\u001b[0m\u001b[0;34m\u001b[0m\u001b[0m\n\u001b[1;32m      6\u001b[0m \u001b[0;32mfrom\u001b[0m \u001b[0mpydrake\u001b[0m\u001b[0;34m.\u001b[0m\u001b[0msystems\u001b[0m\u001b[0;34m.\u001b[0m\u001b[0mframework\u001b[0m \u001b[0;32mimport\u001b[0m \u001b[0mDiagramBuilder\u001b[0m\u001b[0;34m\u001b[0m\u001b[0m\n",
      "\u001b[0;31mImportError\u001b[0m: No module named 'pydrake'"
     ]
    }
   ],
   "source": [
    "%matplotlib inline\n",
    "\n",
    "from plan_runner.environment import ManipStationEnvironment\n",
    "import numpy as np\n",
    "import torch\n",
    "import time\n",
    "import argparse\n",
    "import os\n",
    "\n",
    "import utils\n",
    "import TD3"
   ]
  },
  {
   "cell_type": "code",
   "execution_count": 5,
   "metadata": {},
   "outputs": [],
   "source": [
    "# Runs policy for X episodes and returns average reward\n",
    "def evaluate_policy(policy, eval_episodes=10):\n",
    "    avg_reward = 0.\n",
    "    for i in xrange(eval_episodes):\n",
    "        print(\"Test {}\".format(i))\n",
    "        obs = env.reset()\n",
    "        done = False\n",
    "        while not done:\n",
    "            action = policy.select_action(np.array(obs))\n",
    "            obs, reward, done, _ = env.step(action)\n",
    "            avg_reward += reward\n",
    "\n",
    "    avg_reward /= eval_episodes\n",
    "\n",
    "    print(\"---------------------------------------\")\n",
    "    print(\"Evaluation over %d episodes: %f\" % (eval_episodes, avg_reward))\n",
    "    print(\"---------------------------------------\")\n",
    "    return avg_reward"
   ]
  },
  {
   "cell_type": "markdown",
   "metadata": {},
   "source": [
    "**Use this to visualize policies**"
   ]
  },
  {
   "cell_type": "code",
   "execution_count": 3,
   "metadata": {},
   "outputs": [],
   "source": [
    "seed = 10\n",
    "num_evals = 15\n",
    "visualize = True"
   ]
  },
  {
   "cell_type": "code",
   "execution_count": 4,
   "metadata": {},
   "outputs": [
    {
     "name": "stdout",
     "output_type": "stream",
     "text": [
      "---------------------------------------\n",
      "Settings: TD3_ManipStation_10\n",
      "---------------------------------------\n",
      "You can open the visualizer by visiting the following URL:\n",
      "http://127.0.0.1:7000/static/\n",
      "Setting up visualizer...\n",
      "Starting in 1 second...\n",
      "Starting!\n",
      "Test 0\n",
      "Test 1\n",
      "Test 2\n",
      "Test 3\n",
      "Test 4\n",
      "Test 5\n",
      "Test 6\n",
      "Test 7\n",
      "Test 8\n",
      "Test 9\n",
      "Test 10\n",
      "Test 11\n",
      "Test 12\n",
      "Test 13\n",
      "Test 14\n",
      "---------------------------------------\n",
      "Evaluation over 15 episodes: -29.091591\n",
      "---------------------------------------\n"
     ]
    },
    {
     "data": {
      "text/plain": [
       "-29.091590850948684"
      ]
     },
     "execution_count": 4,
     "metadata": {},
     "output_type": "execute_result"
    }
   ],
   "source": [
    "policy_name = \"TD3\"\n",
    "env_name = \"ManipStation\"\n",
    "\n",
    "file_name = \"%s_%s_%s\" % (policy_name, env_name, str(seed))\n",
    "print(\"---------------------------------------\")\n",
    "print(\"Settings: %s\" % (file_name))\n",
    "print(\"---------------------------------------\")\n",
    "\n",
    "if not os.path.exists(\"./results\"):\n",
    "    exit()\n",
    "\n",
    "env = ManipStationEnvironment(is_visualizing=visualize)\n",
    "print(\"Starting in 1 second...\")\n",
    "time.sleep(1)\n",
    "print(\"Starting!\")\n",
    "\n",
    "# Set seeds\n",
    "env.seed(seed)\n",
    "torch.manual_seed(seed)\n",
    "np.random.seed(seed)\n",
    "\n",
    "state_dim = env.state_dim\n",
    "action_dim = env.action_space.shape[0] \n",
    "max_action = float(env.action_space.high[0])\n",
    "\n",
    "policy = TD3.TD3(state_dim, action_dim, max_action)\n",
    "policy.load(file_name, directory=\"./pytorch_models\")\n",
    "\n",
    "evaluate_policy(policy, eval_episodes=num_evals)"
   ]
  },
  {
   "cell_type": "markdown",
   "metadata": {},
   "source": [
    "**Use this for charts**"
   ]
  },
  {
   "cell_type": "code",
   "execution_count": 6,
   "metadata": {},
   "outputs": [],
   "source": [
    "def moving_average(data_set, periods=10):\n",
    "    weights = np.ones(periods) / periods\n",
    "    return np.convolve(data_set, weights, mode='valid')"
   ]
  },
  {
   "cell_type": "code",
   "execution_count": 78,
   "metadata": {},
   "outputs": [],
   "source": [
    "import matplotlib.pyplot as plt\n",
    "import seaborn as sns\n",
    "import pylab as plot\n",
    "import numpy as np\n",
    "\n",
    "sns.set_style(\"ticks\")\n",
    "plt.rc('text', usetex=True)\n",
    "plt.rc('font', family='serif')\n",
    "params = {'legend.fontsize': 12}\n",
    "plot.rcParams.update(params)\n",
    "\n",
    "BASE_DIR = '/home/samir/Documents/6881/final_project/results/'\n",
    "FIGURE_NAME = 'figures/test.png'\n",
    "\n",
    "CONV_SIZE = 100\n",
    "NUM_SEEDS = 10\n",
    "\n",
    "SHOW = True\n",
    "SAVE = True"
   ]
  },
  {
   "cell_type": "code",
   "execution_count": 79,
   "metadata": {},
   "outputs": [],
   "source": [
    "datas = []\n",
    "datas_x = []\n",
    "\n",
    "for i in range(NUM_SEEDS):\n",
    "    path = \\\n",
    "        BASE_DIR + \\\n",
    "        \"TD3_ManipStation_{}.npy\".format(i+1)\n",
    "\n",
    "    try:\n",
    "        data = np.load(path)\n",
    "        clean_data = data[np.where(data !=0)]\n",
    "        clean_data = clean_data[np.where(clean_data > -500)]\n",
    "        \n",
    "        avg_data = moving_average(clean_data, CONV_SIZE)\n",
    "        \n",
    "        data_x = np.arange(len(clean_data)) + 1\n",
    "        data_x = moving_average(data_x, CONV_SIZE)\n",
    "        \n",
    "        datas.append(avg_data)\n",
    "        datas_x.append(data_x)\n",
    "    except:\n",
    "        continue\n",
    "\n",
    "num = 12750\n",
    "new_data = []\n",
    "for i, d in enumerate(datas):\n",
    "    new_data.append(d[:num])\n",
    "    datas_x[i] = datas_x[i][:num]"
   ]
  },
  {
   "cell_type": "code",
   "execution_count": 81,
   "metadata": {},
   "outputs": [
    {
     "data": {
      "image/png": "[encoded data removed]",
      "text/plain": [
       "<Figure size 432x288 with 1 Axes>"
      ]
     },
     "metadata": {},
     "output_type": "display_data"
    }
   ],
   "source": [
    "fig, ax = plt.subplots()\n",
    "sns.set_style(\"ticks\")\n",
    "data = new_data\n",
    "x = datas_x[0]\n",
    "mean = np.mean(data, axis=0)\n",
    "std = np.std(data, axis=0)\n",
    "error = (mean - std, mean + std)\n",
    "\n",
    "ax.fill_between(x, error[0], error[1], alpha=0.2)\n",
    "ax.plot(x, mean, label='')\n",
    "ax.margins(x=0)\n",
    "\n",
    "plt.xlabel(r'\\textbf{Train Episode}', size=14)\n",
    "plt.ylabel(r'\\textbf{Training Reward}', size=14)\n",
    "plt.title(r'\\textbf{TD3 - Reach Fixed Location}', size=15)\n",
    "\n",
    "# legend = plt.legend(\n",
    "#     bbox_to_anchor=(0., 1.07, 1., .102), \n",
    "#     loc=3, \n",
    "#     ncol=2, \n",
    "#     mode=\"expand\", \n",
    "#     borderaxespad=0.)\n",
    "\n",
    "if SAVE:\n",
    "    \n",
    "    plt.savefig(BASE_DIR + FIGURE_NAME, bbox_inches=\"tight\", dpi=300) \n",
    "\n",
    "if SHOW:\n",
    "    plt.show()"
   ]
  },
  {
   "cell_type": "code",
   "execution_count": null,
   "metadata": {},
   "outputs": [],
   "source": []
  },
  {
   "cell_type": "code",
   "execution_count": null,
   "metadata": {},
   "outputs": [],
   "source": []
  }
 ],
 "metadata": {
  "kernelspec": {
   "display_name": "Python 3",
   "language": "python",
   "name": "python3"
  },
  "language_info": {
   "codemirror_mode": {
    "name": "ipython",
    "version": 3
   },
   "file_extension": ".py",
   "mimetype": "text/x-python",
   "name": "python",
   "nbconvert_exporter": "python",
   "pygments_lexer": "ipython3",
   "version": "3.5.2"
  }
 },
 "nbformat": 4,
 "nbformat_minor": 2
}
